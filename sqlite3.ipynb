{
 "cells": [
  {
   "cell_type": "code",
   "execution_count": 1,
   "metadata": {},
   "outputs": [],
   "source": [
    "#based on this video :https://youtu.be/xTYFtynwgAI by codemy.com (learn to code)"
   ]
  },
  {
   "cell_type": "code",
   "execution_count": 2,
   "metadata": {},
   "outputs": [
    {
     "data": {
      "text/plain": [
       "0"
      ]
     },
     "execution_count": 2,
     "metadata": {},
     "output_type": "execute_result"
    }
   ],
   "source": [
    "import sqlite3\n",
    "import os\n",
    "os.system('clear')\n"
   ]
  },
  {
   "cell_type": "code",
   "execution_count": 3,
   "metadata": {},
   "outputs": [
    {
     "data": {
      "text/plain": [
       "'\\n#there are 5 data types(5) - text ,interger,real,blob - images,textfiles,.wav and null \\n\\n#get data from database\\nc.execute(\"SELECT * FROM customer\")\\n\\n#Fetch the data from cursor and print\\n#print(c.fetchall()[0][1]) #the cursor is left empty\\n#access with above fetchall()\\nitems = c.fetchall()\\nfor item in items :\\n    print(item[0] + \" \" + item[1])\\n\\n\\n#to make a change to the database, commit()\\n#commit\\nconn.commit()\\n\\n#Close database connection.#best practice.\\nconn.close()\\n'"
      ]
     },
     "execution_count": 3,
     "metadata": {},
     "output_type": "execute_result"
    }
   ],
   "source": [
    "#################\n",
    "#sqlite database.\n",
    "##################\n",
    "#Connect to Database.\n",
    "conn = sqlite3.connect('customer.db')\n",
    "#create a cursor\n",
    "c = conn.cursor()\n",
    "\n",
    "#a database does nothing, the table has the rows and columns.\n",
    "#create a table #doc strings\n",
    "'''\n",
    "c.execute(\"\"\"CREATE TABLE customer (\n",
    "            first_name text,\n",
    "            last_name text,\n",
    "            email text\n",
    "            )\"\"\"\n",
    "         )\n",
    "'''\n",
    "'''\n",
    "#insert data.\n",
    "c.execute(\"INSERT INTO customer VALUES('John','Elder','john@codemy.com')\")\n",
    "print(\"Data added to table\")\n",
    "'''\n",
    "\n",
    "'''\n",
    "#there are 5 data types(5) - text ,interger,real,blob - images,textfiles,.wav and null \n",
    "\n",
    "#get data from database\n",
    "c.execute(\"SELECT * FROM customer\")\n",
    "\n",
    "#Fetch the data from cursor and print\n",
    "#print(c.fetchall()[0][1]) #the cursor is left empty\n",
    "#access with above fetchall()\n",
    "items = c.fetchall()\n",
    "for item in items :\n",
    "    print(item[0] + \" \" + item[1])\n",
    "\n",
    "\n",
    "#to make a change to the database, commit()\n",
    "#commit\n",
    "conn.commit()\n",
    "\n",
    "#Close database connection.#best practice.\n",
    "conn.close()\n",
    "'''"
   ]
  },
  {
   "cell_type": "code",
   "execution_count": 17,
   "metadata": {},
   "outputs": [
    {
     "name": "stdout",
     "output_type": "stream",
     "text": [
      "blank2.png\n",
      "blank.png\n",
      "Cantexprapolate.jpg\n",
      "eliud_01.jpeg\n",
      "blank1.png\n",
      "['images/blank2.png', 'images/blank.png', 'images/Cantexprapolate.jpg', 'images/eliud_01.jpeg', 'images/blank1.png']\n"
     ]
    }
   ],
   "source": [
    "import sqlite3\n",
    "import os\n",
    "import pathlib\n",
    "#define path\n",
    "path = pathlib.Path('./images')\n",
    "\n",
    "pathstr = str(path)\n",
    "#create list\n",
    "images = [] \n",
    "#define pattern\n",
    "'''\n",
    "currentpattern = \"*\" #asteric prints all files.\n",
    "for currentFile in currentdir.glob(currentpattern):\n",
    "    #images.append(currentFile.PosixPath())\n",
    "    a = print(currentFile)\n",
    "    print(\"a : \",a)\n",
    "print(images)\n",
    "'''\n",
    "with os.scandir(path) as listOfEntries:\n",
    "    for entry in listOfEntries:\n",
    "        #print all entries that are files.\n",
    "        if entry.is_file():\n",
    "            images.append(pathstr + \"/\" + entry.name)\n",
    "            print(entry.name)\n",
    "print(images)\n"
   ]
  },
  {
   "cell_type": "code",
   "execution_count": 1,
   "metadata": {},
   "outputs": [],
   "source": [
    "import sqlite3\n",
    "conn = sqlite3.connect('lebo.db')"
   ]
  },
  {
   "cell_type": "code",
   "execution_count": 14,
   "metadata": {},
   "outputs": [
    {
     "name": "stdout",
     "output_type": "stream",
     "text": [
      "['static', 'images', '1.jpg']\n",
      "staticimages1.jpg\n",
      "['staticimages1', 'jpg']\n",
      "staticimages1jpg\n",
      "staticimages1jpg\n",
      "['static', 'images', '10.jpg']\n",
      "staticimages10.jpg\n",
      "['staticimages10', 'jpg']\n",
      "staticimages10jpg\n",
      "staticimages10jpg\n",
      "['static', 'images', '2.jpg']\n",
      "staticimages2.jpg\n",
      "['staticimages2', 'jpg']\n",
      "staticimages2jpg\n",
      "staticimages2jpg\n",
      "['static', 'images', '3.jpg']\n",
      "staticimages3.jpg\n",
      "['staticimages3', 'jpg']\n",
      "staticimages3jpg\n",
      "staticimages3jpg\n",
      "['static', 'images', '4.jpg']\n",
      "staticimages4.jpg\n",
      "['staticimages4', 'jpg']\n",
      "staticimages4jpg\n",
      "staticimages4jpg\n",
      "['static', 'images', '5.jpg']\n",
      "staticimages5.jpg\n",
      "['staticimages5', 'jpg']\n",
      "staticimages5jpg\n",
      "staticimages5jpg\n",
      "['static', 'images', '6.jpg']\n",
      "staticimages6.jpg\n",
      "['staticimages6', 'jpg']\n",
      "staticimages6jpg\n",
      "staticimages6jpg\n",
      "['static', 'images', '7.jpg']\n",
      "staticimages7.jpg\n",
      "['staticimages7', 'jpg']\n",
      "staticimages7jpg\n",
      "staticimages7jpg\n",
      "['static', 'images', '8.jpg']\n",
      "staticimages8.jpg\n",
      "['staticimages8', 'jpg']\n",
      "staticimages8jpg\n",
      "staticimages8jpg\n",
      "['static', 'images', '9.jpg']\n",
      "staticimages9.jpg\n",
      "['staticimages9', 'jpg']\n",
      "staticimages9jpg\n",
      "staticimages9jpg\n"
     ]
    }
   ],
   "source": [
    "def removesymbolfromstring(symbol,s):\n",
    "    delimiter = symbol\n",
    "    x = s.split(delimiter)\n",
    "    print(x)\n",
    "    delimiter = ''\n",
    "    s = delimiter.join(x)\n",
    "    print(s)\n",
    "    return s\n",
    "#cursor\n",
    "c = conn.cursor()\n",
    "\n",
    "\n",
    "#Create table\n",
    "c.execute('''CREATE TABLE IF NOT EXISTS labels (\n",
    "userid PRIMARY KEY,\n",
    "\n",
    ") WITHOUT ROWID''')\n",
    "imagelist = ['static/images/1.jpg', 'static/images/10.jpg', 'static/images/2.jpg', 'static/images/3.jpg', 'static/images/4.jpg', 'static/images/5.jpg', 'static/images/6.jpg', 'static/images/7.jpg', 'static/images/8.jpg', 'static/images/9.jpg']\n",
    "for image in imagelist:\n",
    "    newimage = image\n",
    "    newimage = removesymbolfromstring('/',newimage)\n",
    "    newimage = removesymbolfromstring('.',newimage)\n",
    "    print(newimage)\n",
    "    try : \n",
    "        addcolumnimage = \"ALTER TABLE userlabels ADD COLUMN \" +newimage+ \" text\"\n",
    "        c.execute(addcolumnimage)\n",
    "    except:\n",
    "        pass\n",
    "c.close()"
   ]
  },
  {
   "cell_type": "code",
   "execution_count": null,
   "metadata": {},
   "outputs": [],
   "source": [
    "#"
   ]
  }
 ],
 "metadata": {
  "kernelspec": {
   "display_name": "Python 3",
   "language": "python",
   "name": "python3"
  },
  "language_info": {
   "codemirror_mode": {
    "name": "ipython",
    "version": 3
   },
   "file_extension": ".py",
   "mimetype": "text/x-python",
   "name": "python",
   "nbconvert_exporter": "python",
   "pygments_lexer": "ipython3",
   "version": "3.7.3"
  }
 },
 "nbformat": 4,
 "nbformat_minor": 2
}

{
 "cells": [
  {
   "cell_type": "code",
   "execution_count": 1,
   "metadata": {},
   "outputs": [],
   "source": [
    "#based on this video :https://youtu.be/xTYFtynwgAI by codemy.com (learn to code)"
   ]
  },
  {
   "cell_type": "code",
   "execution_count": 2,
   "metadata": {},
   "outputs": [
    {
     "data": {
      "text/plain": [
       "0"
      ]
     },
     "execution_count": 2,
     "metadata": {},
     "output_type": "execute_result"
    }
   ],
   "source": [
    "import sqlite3\n",
    "import os\n",
    "os.system('clear')\n"
   ]
  },
  {
   "cell_type": "code",
   "execution_count": 16,
   "metadata": {},
   "outputs": [
    {
     "name": "stdout",
     "output_type": "stream",
     "text": [
      "John Elder\n"
     ]
    }
   ],
   "source": [
    "#################\n",
    "#sqlite database.\n",
    "##################\n",
    "#Connect to Database.\n",
    "conn = sqlite3.connect('customer.db')\n",
    "#create a cursor\n",
    "c = conn.cursor()\n",
    "\n",
    "#a database does nothing, the table has the rows and columns.\n",
    "#create a table #doc strings\n",
    "'''\n",
    "c.execute(\"\"\"CREATE TABLE customer (\n",
    "            first_name text,\n",
    "            last_name text,\n",
    "            email text\n",
    "            )\"\"\"\n",
    "         )\n",
    "'''\n",
    "'''\n",
    "#insert data.\n",
    "c.execute(\"INSERT INTO customer VALUES('John','Elder','john@codemy.com')\")\n",
    "print(\"Data added to table\")\n",
    "'''\n",
    "\n",
    "'''\n",
    "#there are 5 data types(5) - text ,interger,real,blob - images,textfiles,.wav and null \n",
    "\n",
    "#get data from database\n",
    "c.execute(\"SELECT * FROM customer\")\n",
    "\n",
    "#Fetch the data from cursor and print\n",
    "#print(c.fetchall()[0][1]) #the cursor is left empty\n",
    "#access with above fetchall()\n",
    "items = c.fetchall()\n",
    "for item in items :\n",
    "    print(item[0] + \" \" + item[1])\n",
    "\n",
    "\n",
    "#to make a change to the database, commit()\n",
    "#commit\n",
    "conn.commit()\n",
    "\n",
    "#Close database connection.#best practice.\n",
    "conn.close()\n",
    "'''"
   ]
  },
  {
   "cell_type": "code",
   "execution_count": 17,
   "metadata": {},
   "outputs": [
    {
     "name": "stdout",
     "output_type": "stream",
     "text": [
      "blank2.png\n",
      "blank.png\n",
      "Cantexprapolate.jpg\n",
      "eliud_01.jpeg\n",
      "blank1.png\n",
      "['images/blank2.png', 'images/blank.png', 'images/Cantexprapolate.jpg', 'images/eliud_01.jpeg', 'images/blank1.png']\n"
     ]
    }
   ],
   "source": [
    "import sqlite3\n",
    "import os\n",
    "import pathlib\n",
    "#define path\n",
    "path = pathlib.Path('./images')\n",
    "\n",
    "pathstr = str(path)\n",
    "#create list\n",
    "images = [] \n",
    "#define pattern\n",
    "'''\n",
    "currentpattern = \"*\" #asteric prints all files.\n",
    "for currentFile in currentdir.glob(currentpattern):\n",
    "    #images.append(currentFile.PosixPath())\n",
    "    a = print(currentFile)\n",
    "    print(\"a : \",a)\n",
    "print(images)\n",
    "'''\n",
    "with os.scandir(path) as listOfEntries:\n",
    "    for entry in listOfEntries:\n",
    "        #print all entries that are files.\n",
    "        if entry.is_file():\n",
    "            images.append(pathstr + \"/\" + entry.name)\n",
    "            print(entry.name)\n",
    "print(images)\n"
   ]
  },
  {
   "cell_type": "code",
   "execution_count": null,
   "metadata": {},
   "outputs": [],
   "source": []
  }
 ],
 "metadata": {
  "kernelspec": {
   "display_name": "Python 3",
   "language": "python",
   "name": "python3"
  },
  "language_info": {
   "codemirror_mode": {
    "name": "ipython",
    "version": 3
   },
   "file_extension": ".py",
   "mimetype": "text/x-python",
   "name": "python",
   "nbconvert_exporter": "python",
   "pygments_lexer": "ipython3",
   "version": "3.7.3"
  }
 },
 "nbformat": 4,
 "nbformat_minor": 2
}
